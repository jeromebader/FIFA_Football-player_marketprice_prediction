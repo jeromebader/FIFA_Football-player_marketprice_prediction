{
 "cells": [
  {
   "cell_type": "markdown",
   "metadata": {},
   "source": [
    "# Machine Learning Model\n",
    "\n",
    "Football player Market price prediction based on FIFA 21 data set.\n",
    "\n",
    "Data: https://www.kaggle.com/datasets/yagunnersya/fifa-21-messy-raw-dataset-for-cleaning-exploring\n"
   ]
  },
  {
   "cell_type": "markdown",
   "metadata": {},
   "source": [
    "# Contexto\n",
    "\n",
    "Los datos del deporte son muy interesantes, especialmente del futbol. Un tema relevante al nivel económico es el valor del mercado de los jugadores, para clubs en base de datos objetivos podría ser más facil estimar un valor justo para un cierto jugador, tanto para vender como para comprar. Además podría servir para clubs y también asesores encontrar jugadores baratos, es decir jugadores que están subcotizados en su valor del mercado.\n",
    "\n",
    "\n",
    "## _Desafío principales_\n",
    "\n",
    "- Dataset muy sucio de Fifa 2021 (para practicar cleaning)\n",
    "- Valores dispersos\n",
    "- Muchos datos\n",
    "\n"
   ]
  },
  {
   "cell_type": "markdown",
   "metadata": {},
   "source": [
    "# Trabajo\n",
    "\n",
    "Para practicar la creación de modelos de ML se realizó ese trabajo que tiene como objetivo desarrollar un modelo de predicción de precios de jugadores.\n",
    "Para ello se entrenó un modelo en base de datos de Fifa 2021 que en el futuro se va a ampliar con datos exogenos.\n",
    "\n",
    "\n",
    "\n",
    "## Steps\n",
    "\n",
    "Para realizar el trabajo se usó el dataset de Fifa 2021\n",
    "\n",
    "- Importar archivo raw\n",
    "- EDA\n",
    "- Feature Engineering\n",
    "- Crear Modelo Train en Jupyter Notebook\n",
    "- Crear Archivos y Modelos para Python\n",
    "\n",
    "Los resultados del trabajo han sido un Modelo para estimar valores de Jugadores en \n",
    "la primera versión no han sido muy buenos y falta optimizar el modelo con variables exogenos"
   ]
  },
  {
   "cell_type": "markdown",
   "metadata": {},
   "source": [
    "\n",
    "\n",
    "### Archivos\n",
    "    - ./utils/ -> Funciones\n",
    "    - ./notebook/ -> Notebook con EDA\n",
    "    - ./data/ -> Datos\n",
    "    - ./model/ -> Output de modelos"
   ]
  },
  {
   "cell_type": "markdown",
   "metadata": {},
   "source": []
  }
 ],
 "metadata": {
  "kernelspec": {
   "display_name": "Python 3.10.4 64-bit",
   "language": "python",
   "name": "python3"
  },
  "language_info": {
   "codemirror_mode": {
    "name": "ipython",
    "version": 3
   },
   "file_extension": ".py",
   "mimetype": "text/x-python",
   "name": "python",
   "nbconvert_exporter": "python",
   "pygments_lexer": "ipython3",
   "version": "3.10.4"
  },
  "orig_nbformat": 4,
  "vscode": {
   "interpreter": {
    "hash": "31f2aee4e71d21fbe5cf8b01ff0e069b9275f58929596ceb00d14d90e3e16cd6"
   }
  }
 },
 "nbformat": 4,
 "nbformat_minor": 2
}
